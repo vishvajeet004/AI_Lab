{
 "cells": [
  {
   "cell_type": "code",
   "execution_count": 1,
   "metadata": {},
   "outputs": [],
   "source": [
    "import nltk"
   ]
  },
  {
   "cell_type": "code",
   "execution_count": 2,
   "metadata": {},
   "outputs": [],
   "source": [
    "from nltk import word_tokenize, sent_tokenize"
   ]
  },
  {
   "cell_type": "code",
   "execution_count": 5,
   "metadata": {},
   "outputs": [
    {
     "name": "stdout",
     "output_type": "stream",
     "text": [
      "['This', 'is', 'the', 'last', 'week', 'of', 'the', 'semester', '.', 'May', 'be', 'from', 'next', 'week', ',', 'there', 'is', 'our', 'Endsem', 'Examinations']\n",
      "['This is the last week of the semester.', 'May be from next week, there is our Endsem Examinations']\n",
      "['T', 'h', 'i', 's', ' ', 'i', 's', ' ', 't', 'h', 'e', ' ', 'l', 'a', 's', 't', ' ', 'w', 'e', 'e', 'k', ' ', 'o', 'f', ' ', 't', 'h', 'e', ' ', 's', 'e', 'm', 'e', 's', 't', 'e', 'r', '.', ' ', 'M', 'a', 'y', ' ', 'b', 'e', ' ', 'f', 'r', 'o', 'm', ' ', 'n', 'e', 'x', 't', ' ', 'w', 'e', 'e', 'k', ',', ' ', 't', 'h', 'e', 'r', 'e', ' ', 'i', 's', ' ', 'o', 'u', 'r', ' ', 'E', 'n', 'd', 's', 'e', 'm', ' ', 'E', 'x', 'a', 'm', 'i', 'n', 'a', 't', 'i', 'o', 'n', 's']\n"
     ]
    }
   ],
   "source": [
    "# Text Tokenization\n",
    "\n",
    "sent = \"This is the last week of the semester. May be from next week, there is our Endsem Examinations\"\n",
    "x = word_tokenize(sent)\n",
    "y = sent_tokenize(sent)\n",
    "z = list(sent)\n",
    "print(x)\n",
    "print(y)\n",
    "print(z)"
   ]
  },
  {
   "cell_type": "code",
   "execution_count": 6,
   "metadata": {},
   "outputs": [
    {
     "name": "stderr",
     "output_type": "stream",
     "text": [
      "[nltk_data] Downloading package punkt to\n",
      "[nltk_data]     C:\\Users\\vishvajeet\\AppData\\Roaming\\nltk_data...\n",
      "[nltk_data]   Package punkt is already up-to-date!\n"
     ]
    },
    {
     "data": {
      "text/plain": [
       "True"
      ]
     },
     "execution_count": 6,
     "metadata": {},
     "output_type": "execute_result"
    }
   ],
   "source": [
    "nltk.download('punkt')"
   ]
  },
  {
   "cell_type": "code",
   "execution_count": 17,
   "metadata": {},
   "outputs": [
    {
     "name": "stdout",
     "output_type": "stream",
     "text": [
      "['i', 'me', 'my', 'myself', 'we', 'our', 'ours', 'ourselves', 'you', \"you're\", \"you've\", \"you'll\", \"you'd\", 'your', 'yours', 'yourself', 'yourselves', 'he', 'him', 'his', 'himself', 'she', \"she's\", 'her', 'hers', 'herself', 'it', \"it's\", 'its', 'itself', 'they', 'them', 'their', 'theirs', 'themselves', 'what', 'which', 'who', 'whom', 'this', 'that', \"that'll\", 'these', 'those', 'am', 'is', 'are', 'was', 'were', 'be', 'been', 'being', 'have', 'has', 'had', 'having', 'do', 'does', 'did', 'doing', 'a', 'an', 'the', 'and', 'but', 'if', 'or', 'because', 'as', 'until', 'while', 'of', 'at', 'by', 'for', 'with', 'about', 'against', 'between', 'into', 'through', 'during', 'before', 'after', 'above', 'below', 'to', 'from', 'up', 'down', 'in', 'out', 'on', 'off', 'over', 'under', 'again', 'further', 'then', 'once', 'here', 'there', 'when', 'where', 'why', 'how', 'all', 'any', 'both', 'each', 'few', 'more', 'most', 'other', 'some', 'such', 'no', 'nor', 'not', 'only', 'own', 'same', 'so', 'than', 'too', 'very', 's', 't', 'can', 'will', 'just', 'don', \"don't\", 'should', \"should've\", 'now', 'd', 'll', 'm', 'o', 're', 've', 'y', 'ain', 'aren', \"aren't\", 'couldn', \"couldn't\", 'didn', \"didn't\", 'doesn', \"doesn't\", 'hadn', \"hadn't\", 'hasn', \"hasn't\", 'haven', \"haven't\", 'isn', \"isn't\", 'ma', 'mightn', \"mightn't\", 'mustn', \"mustn't\", 'needn', \"needn't\", 'shan', \"shan't\", 'shouldn', \"shouldn't\", 'wasn', \"wasn't\", 'weren', \"weren't\", 'won', \"won't\", 'wouldn', \"wouldn't\"]\n"
     ]
    }
   ],
   "source": [
    "# Selecting stopwords\n",
    "\n",
    "from nltk.corpus import stopwords\n",
    "stopwords = stopwords.words('english')\n",
    "print(stopwords)"
   ]
  },
  {
   "cell_type": "code",
   "execution_count": 18,
   "metadata": {},
   "outputs": [
    {
     "name": "stdout",
     "output_type": "stream",
     "text": [
      "['This', 'last', 'week', 'semester', '.', 'May', 'next', 'week', ',', 'Endsem', 'Examinations']\n"
     ]
    }
   ],
   "source": [
    "# Remove stopwords\n",
    "\n",
    "tokens = word_tokenize(sent)\n",
    "cleaned_token = []\n",
    "for word in tokens:\n",
    "    if word not in stopwords:\n",
    "        cleaned_token.append(word)\n",
    "print(cleaned_token)"
   ]
  },
  {
   "cell_type": "code",
   "execution_count": 29,
   "metadata": {},
   "outputs": [
    {
     "name": "stdout",
     "output_type": "stream",
     "text": [
      "Counter({'week': 2, 'This': 1, 'last': 1, 'semester': 1, '.': 1, 'May': 1, 'next': 1, ',': 1, 'Endsem': 1, 'Examinations': 1})\n",
      "Counter({'is': 2, 'the': 2, 'week': 2, 'This': 1, 'last': 1, 'of': 1, 'semester': 1, '.': 1, 'May': 1, 'be': 1, 'from': 1, 'next': 1, ',': 1, 'there': 1, 'our': 1, 'Endsem': 1, 'Examinations': 1})\n"
     ]
    }
   ],
   "source": [
    "# Count Word Frequency\n",
    "\n",
    "from collections import Counter\n",
    "print(Counter(cleaned_token))\n",
    "print(Counter(word_tokenize(sent)))"
   ]
  },
  {
   "cell_type": "code",
   "execution_count": 37,
   "metadata": {},
   "outputs": [
    {
     "name": "stdout",
     "output_type": "stream",
     "text": [
      "[('This', 'DT'), ('last', 'JJ'), ('week', 'NN'), ('semester', 'NN'), ('.', '.'), ('May', 'NNP'), ('next', 'JJ'), ('week', 'NN'), (',', ','), ('Endsem', 'NNP'), ('Examinations', 'NNP')]\n"
     ]
    },
    {
     "name": "stderr",
     "output_type": "stream",
     "text": [
      "[nltk_data] Downloading package averaged_perceptron_tagger to\n",
      "[nltk_data]     C:\\Users\\vishvajeet\\AppData\\Roaming\\nltk_data...\n",
      "[nltk_data]   Package averaged_perceptron_tagger is already up-to-\n",
      "[nltk_data]       date!\n"
     ]
    }
   ],
   "source": [
    "# POS Tagging\n",
    "\n",
    "from nltk import pos_tag\n",
    "nltk.download('averaged_perceptron_tagger')\n",
    "tagged = pos_tag(cleaned_token)\n",
    "print(tagged)"
   ]
  }
 ],
 "metadata": {
  "kernelspec": {
   "display_name": "Python 3",
   "language": "python",
   "name": "python3"
  },
  "language_info": {
   "codemirror_mode": {
    "name": "ipython",
    "version": 3
   },
   "file_extension": ".py",
   "mimetype": "text/x-python",
   "name": "python",
   "nbconvert_exporter": "python",
   "pygments_lexer": "ipython3",
   "version": "3.12.1"
  }
 },
 "nbformat": 4,
 "nbformat_minor": 2
}
